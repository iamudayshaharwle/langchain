{
 "cells": [
  {
   "cell_type": "code",
   "execution_count": null,
   "metadata": {
    "id": "POkHA-M_cyh3"
   },
   "outputs": [],
   "source": [
    "import os\n",
    "os.environ[\"GOOGLE_API_KEY\"] = \"google_api_key\""
   ]
  },
  {
   "cell_type": "code",
   "execution_count": null,
   "metadata": {
    "colab": {
     "base_uri": "https://localhost:8080/"
    },
    "executionInfo": {
     "elapsed": 8916,
     "status": "ok",
     "timestamp": 1749422387598,
     "user": {
      "displayName": "Uday Shaharwale",
      "userId": "02588016589802807423"
     },
     "user_tz": -330
    },
    "id": "dKXz759WsqaH",
    "outputId": "16c64cb6-5679-4b3f-8b08-dcd60d09eb42"
   },
   "outputs": [
    {
     "name": "stdout",
     "output_type": "stream",
     "text": [
      "\u001b[?25l   \u001b[90m━━━━━━━━━━━━━━━━━━━━━━━━━━━━━━━━━━━━━━━━\u001b[0m \u001b[32m0.0/2.5 MB\u001b[0m \u001b[31m?\u001b[0m eta \u001b[36m-:--:--\u001b[0m\r\u001b[2K   \u001b[90m━━━━━━━━━━━━━━━━━━━━━━━━━━━━━━━━━━━━━━━━\u001b[0m \u001b[32m2.5/2.5 MB\u001b[0m \u001b[31m86.6 MB/s\u001b[0m eta \u001b[36m0:00:00\u001b[0m\n",
      "\u001b[?25h\u001b[?25l   \u001b[90m━━━━━━━━━━━━━━━━━━━━━━━━━━━━━━━━━━━━━━━━\u001b[0m \u001b[32m0.0/44.8 kB\u001b[0m \u001b[31m?\u001b[0m eta \u001b[36m-:--:--\u001b[0m\r\u001b[2K   \u001b[90m━━━━━━━━━━━━━━━━━━━━━━━━━━━━━━━━━━━━━━━━\u001b[0m \u001b[32m44.8/44.8 kB\u001b[0m \u001b[31m4.3 MB/s\u001b[0m eta \u001b[36m0:00:00\u001b[0m\n",
      "\u001b[?25h\u001b[?25l   \u001b[90m━━━━━━━━━━━━━━━━━━━━━━━━━━━━━━━━━━━━━━━━\u001b[0m \u001b[32m0.0/1.4 MB\u001b[0m \u001b[31m?\u001b[0m eta \u001b[36m-:--:--\u001b[0m\r\u001b[2K   \u001b[90m━━━━━━━━━━━━━━━━━━━━━━━━━━━━━━━━━━━━━━━━\u001b[0m \u001b[32m1.4/1.4 MB\u001b[0m \u001b[31m81.7 MB/s\u001b[0m eta \u001b[36m0:00:00\u001b[0m\n",
      "\u001b[?25h\u001b[?25l   \u001b[90m━━━━━━━━━━━━━━━━━━━━━━━━━━━━━━━━━━━━━━━━\u001b[0m \u001b[32m0.0/3.3 MB\u001b[0m \u001b[31m?\u001b[0m eta \u001b[36m-:--:--\u001b[0m\r\u001b[2K   \u001b[90m━━━━━━━━━━━━━━━━━━━━━━━━━━━━━━━━━━━━━━━━\u001b[0m \u001b[32m3.3/3.3 MB\u001b[0m \u001b[31m113.6 MB/s\u001b[0m eta \u001b[36m0:00:00\u001b[0m\n",
      "\u001b[?25h\u001b[?25l   \u001b[90m━━━━━━━━━━━━━━━━━━━━━━━━━━━━━━━━━━━━━━━━\u001b[0m \u001b[32m0.0/44.4 kB\u001b[0m \u001b[31m?\u001b[0m eta \u001b[36m-:--:--\u001b[0m\r\u001b[2K   \u001b[90m━━━━━━━━━━━━━━━━━━━━━━━━━━━━━━━━━━━━━━━━\u001b[0m \u001b[32m44.4/44.4 kB\u001b[0m \u001b[31m4.1 MB/s\u001b[0m eta \u001b[36m0:00:00\u001b[0m\n",
      "\u001b[?25h\u001b[?25l   \u001b[90m━━━━━━━━━━━━━━━━━━━━━━━━━━━━━━━━━━━━━━━━\u001b[0m \u001b[32m0.0/50.9 kB\u001b[0m \u001b[31m?\u001b[0m eta \u001b[36m-:--:--\u001b[0m\r\u001b[2K   \u001b[90m━━━━━━━━━━━━━━━━━━━━━━━━━━━━━━━━━━━━━━━━\u001b[0m \u001b[32m50.9/50.9 kB\u001b[0m \u001b[31m4.3 MB/s\u001b[0m eta \u001b[36m0:00:00\u001b[0m\n",
      "\u001b[?25h\u001b[31mERROR: pip's dependency resolver does not currently take into account all the packages that are installed. This behaviour is the source of the following dependency conflicts.\n",
      "google-generativeai 0.8.5 requires google-ai-generativelanguage==0.6.15, but you have google-ai-generativelanguage 0.6.18 which is incompatible.\u001b[0m\u001b[31m\n",
      "\u001b[0m"
     ]
    }
   ],
   "source": [
    "! pip install -q  langchain-community langchain_google_genai langchain_core requests duckduckgo-search"
   ]
  },
  {
   "cell_type": "code",
   "execution_count": null,
   "metadata": {
    "id": "Cwtjl6JjdOSw"
   },
   "outputs": [],
   "source": [
    "from langchain_google_genai import ChatGoogleGenerativeAI\n",
    "from langchain_core.tools import tool\n",
    "import requests"
   ]
  },
  {
   "cell_type": "code",
   "execution_count": null,
   "metadata": {
    "colab": {
     "base_uri": "https://localhost:8080/"
    },
    "executionInfo": {
     "elapsed": 990,
     "status": "ok",
     "timestamp": 1749422410656,
     "user": {
      "displayName": "Uday Shaharwale",
      "userId": "02588016589802807423"
     },
     "user_tz": -330
    },
    "id": "IjKeF1Qkd9w4",
    "outputId": "293050c1-d775-44f1-d409-3b0e8f4ade20"
   },
   "outputs": [
    {
     "name": "stdout",
     "output_type": "stream",
     "text": [
      "India News | Latest India News | Read latest and breaking news from India. Today's top India news headlines, news on Indian politics, elections, government, business, technology, and Bollywood. Get the latest India news, breaking news of today, and top updates of Bharat. Stay informed with real-time coverage and analysis of current news in India at news18. Read all India news and breaking news today from India on politics, business, entertainment, technology, sports, lifestyle and more at CNBC TV18. ... Home india News. Top India News. Heatwave grips western Rajasthan; max may touch 46 degrees Celsius. Jun 7, 2025 3:32 PM IST. Get updated with current top news stories from India and the world only on Zee News. Zee News brings latest news from India and World on breaking news, today news headlines, politics, business, technology, bollywood, entertainment, sports and others. Find exclusive news stories on Indian politics, current affairs, cricket matches, festivals and ... The Narendra Modi government marks its first anniversary in the third term and 11th overall on Monday. Modi took oath for a third term on June 9, 2024. New disputes emerge ahead of U.S.-China ...\n"
     ]
    }
   ],
   "source": [
    "from langchain_community.tools import DuckDuckGoSearchRun\n",
    "\n",
    "search_tool = DuckDuckGoSearchRun()\n",
    "\n"
   ]
  },
  {
   "cell_type": "code",
   "execution_count": null,
   "metadata": {
    "id": "etVn-2o0tVXv"
   },
   "outputs": [],
   "source": [
    "@tool\n",
    "def get_weather_data(city: str) -> str:\n",
    "  \"\"\"\n",
    "  This function fetches the current weather data for a given city\n",
    "  \"\"\"\n",
    "  url = f\"http://api.weatherstack.com/current?access_key=api_key&query={city}\"\n",
    "\n",
    "  response = requests.get(url)\n",
    "  return response.json()"
   ]
  },
  {
   "cell_type": "code",
   "execution_count": null,
   "metadata": {
    "id": "VzU1_ykKehr5"
   },
   "outputs": [],
   "source": [
    "llm = ChatGoogleGenerativeAI(model=\"gemini-2.0-flash\")"
   ]
  },
  {
   "cell_type": "code",
   "execution_count": null,
   "metadata": {
    "id": "rjOQlqzke8WF"
   },
   "outputs": [],
   "source": [
    "from langchain.agents import create_react_agent, AgentExecutor\n",
    "from langchain import hub"
   ]
  },
  {
   "cell_type": "code",
   "execution_count": null,
   "metadata": {
    "colab": {
     "base_uri": "https://localhost:8080/"
    },
    "executionInfo": {
     "elapsed": 955,
     "status": "ok",
     "timestamp": 1749423360080,
     "user": {
      "displayName": "Uday Shaharwale",
      "userId": "02588016589802807423"
     },
     "user_tz": -330
    },
    "id": "Xebrlh7zfQ_c",
    "outputId": "5e51a7f3-0c14-4c85-e73b-2e877a3b8ea1"
   },
   "outputs": [
    {
     "name": "stderr",
     "output_type": "stream",
     "text": [
      "/usr/local/lib/python3.11/dist-packages/langsmith/client.py:272: LangSmithMissingAPIKeyWarning: API key must be provided when using hosted LangSmith API\n",
      "  warnings.warn(\n"
     ]
    }
   ],
   "source": [
    "# step 2 : pull the ReAct prompt from langchain hub\n",
    "prompt = hub.pull(\"hwchase17/react\") # pulls the standard ReAct agent prompt"
   ]
  },
  {
   "cell_type": "code",
   "execution_count": null,
   "metadata": {
    "id": "b7O3k1o2f9Ce"
   },
   "outputs": [],
   "source": [
    "# step 3 : ceate ReAct agent manually with the pulled prompt\n",
    "agent = create_react_agent(\n",
    "    llm=llm,\n",
    "    tools=[search_tool, get_weather_data],\n",
    "    prompt=prompt\n",
    ")\n"
   ]
  },
  {
   "cell_type": "code",
   "execution_count": null,
   "metadata": {
    "id": "s8KfjvTPgcup"
   },
   "outputs": [],
   "source": [
    "# step 4: wrap it with AgentExecutor\n",
    "agent_executor = AgentExecutor(\n",
    "    agent=agent,\n",
    "    tools=[search_tool, get_weather_data],\n",
    "    verbose=True\n",
    "    )"
   ]
  },
  {
   "cell_type": "code",
   "execution_count": null,
   "metadata": {
    "colab": {
     "base_uri": "https://localhost:8080/"
    },
    "executionInfo": {
     "elapsed": 6150,
     "status": "ok",
     "timestamp": 1749423474049,
     "user": {
      "displayName": "Uday Shaharwale",
      "userId": "02588016589802807423"
     },
     "user_tz": -330
    },
    "id": "TFwKOvMihL5t",
    "outputId": "c35e5bfa-b500-42b0-e43a-530a132d59a4"
   },
   "outputs": [
    {
     "name": "stdout",
     "output_type": "stream",
     "text": [
      "\n",
      "\n",
      "\u001b[1m> Entering new AgentExecutor chain...\u001b[0m\n",
      "\u001b[32;1m\u001b[1;3mI need to first find the capital of Madhya Pradesh, and then I need to find the current weather conditions in that city.\n",
      "Action: duckduckgo_search\n",
      "Action Input: capital of Madhya Pradesh\u001b[0m\u001b[36;1m\u001b[1;3mIndore (/ ɪ n ˈ d ɔːr / ⓘ; ISO: Indaura, Hindi: [ɪn̪d̪ɔːr]) is the largest and most populous city in the Indian state of Madhya Pradesh.The commercial capital of the state, it has been declared as the cleanest city of India 7 times in a row. [15] It is also considered the largest education hub in central India and houses campuses of both the Indian Institute of Technology and the ... Indore, city, western Madhya Pradesh state, central India.It is located in an upland area on the Saraswati and Khan rivers, which are tributaries of the Shipra River. Indore was founded in 1715 as a trade market on the Narmada River valley route by local landowners, who erected Indreshwar Temple (1741), from which the name Indore is derived.It became the capital of the Indore princely state of ... The name Indore is due to this diety. It is the largest city in Madhya Pradesh state in central India . It is among the million+ population cities of India with a population of 32,76,697 (2011). It is the commercial capital of the state of Madhya Pradesh. Indore city presents a happy blend of historical past and promises of rapid future ... Its capital is Bhopal, and Madhya Pradesh is the second-largest Indian state by area and the fifth-largest state by population with over 72 million residents. It borders the states of Uttar Pradesh, Chhattisgarh, Maharashtra, Gujarat, and Rajasthan. The economy of Madhya Pradesh is the 10th-largest in India and has the country's 26th-highest ... Indore city is officially known as the Commercial Capital of Madhya Pradesh state. Indore as a modern city is a neat amalgamation of long past history and hopes of speedy modernization future. Modern-day Indore traces its origin to its founding in the 16th century as a trading center connecting Deccan and Delhi. The city was built on the banks ...\u001b[0m\u001b[32;1m\u001b[1;3mThe capital of Madhya Pradesh is Bhopal. Now I need to find the current weather conditions in Bhopal.\n",
      "Action: get_weather_data\n",
      "Action Input: Bhopal\u001b[0m\u001b[33;1m\u001b[1;3m{'request': {'type': 'City', 'query': 'Bhopal, India', 'language': 'en', 'unit': 'm'}, 'location': {'name': 'Bhopal', 'country': 'India', 'region': 'Madhya Pradesh', 'lat': '23.267', 'lon': '77.400', 'timezone_id': 'Asia/Kolkata', 'localtime': '2025-06-09 04:30', 'localtime_epoch': 1749443400, 'utc_offset': '5.50'}, 'current': {'observation_time': '11:00 PM', 'temperature': 29, 'weather_code': 143, 'weather_icons': ['https://cdn.worldweatheronline.com/images/wsymbols01_png_64/wsymbol_0006_mist.png'], 'weather_descriptions': ['Haze'], 'astro': {'sunrise': '05:34 AM', 'sunset': '07:06 PM', 'moonrise': '05:34 PM', 'moonset': '03:41 AM', 'moon_phase': 'Waxing Gibbous', 'moon_illumination': 95}, 'air_quality': {'co': '436.6', 'no2': '9.435', 'o3': '82', 'so2': '7.77', 'pm2_5': '38.48', 'pm10': '62.53', 'us-epa-index': '2', 'gb-defra-index': '2'}, 'wind_speed': 27, 'wind_degree': 292, 'wind_dir': 'WNW', 'pressure': 1005, 'precip': 0, 'humidity': 40, 'cloudcover': 50, 'feelslike': 28, 'uv_index': 0, 'visibility': 5, 'is_day': 'no'}}\u001b[0m\u001b[32;1m\u001b[1;3mI now know the final answer\n",
      "Final Answer: The capital of Madhya Pradesh is Bhopal, and the current weather condition in Bhopal is Haze with a temperature of 29 degrees Celsius.\u001b[0m\n",
      "\n",
      "\u001b[1m> Finished chain.\u001b[0m\n",
      "{'input': \"Find the capital of Madhya Pradesh, then find it's current weather condition \", 'output': 'The capital of Madhya Pradesh is Bhopal, and the current weather condition in Bhopal is Haze with a temperature of 29 degrees Celsius.'}\n"
     ]
    }
   ],
   "source": [
    "# step 5 :invoke\n",
    "response = agent_executor.invoke({\"input\":\"Find the capital of Madhya Pradesh, then find it's current weather condition \"})\n",
    "print(response)"
   ]
  },
  {
   "cell_type": "code",
   "execution_count": null,
   "metadata": {
    "colab": {
     "base_uri": "https://localhost:8080/",
     "height": 35
    },
    "executionInfo": {
     "elapsed": 10,
     "status": "ok",
     "timestamp": 1749423497054,
     "user": {
      "displayName": "Uday Shaharwale",
      "userId": "02588016589802807423"
     },
     "user_tz": -330
    },
    "id": "l8P-McHHheMj",
    "outputId": "f91a51e3-fed4-4442-f888-dd9661ead7c6"
   },
   "outputs": [
    {
     "data": {
      "application/vnd.google.colaboratory.intrinsic+json": {
       "type": "string"
      },
      "text/plain": [
       "'The capital of Madhya Pradesh is Bhopal, and the current weather condition in Bhopal is Haze with a temperature of 29 degrees Celsius.'"
      ]
     },
     "execution_count": 29,
     "metadata": {},
     "output_type": "execute_result"
    }
   ],
   "source": [
    "response['output']"
   ]
  },
  {
   "cell_type": "code",
   "execution_count": null,
   "metadata": {
    "id": "5j8eMUmR4hm9"
   },
   "outputs": [],
   "source": []
  }
 ],
 "metadata": {
  "accelerator": "GPU",
  "colab": {
   "authorship_tag": "ABX9TyNlCVkqoPVzxRdf0H+99HiI",
   "gpuType": "T4",
   "provenance": []
  },
  "kernelspec": {
   "display_name": "Python 3",
   "name": "python3"
  },
  "language_info": {
   "name": "python"
  }
 },
 "nbformat": 4,
 "nbformat_minor": 0
}
